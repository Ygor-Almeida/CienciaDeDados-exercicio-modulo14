{
 "cells": [
  {
   "cell_type": "markdown",
   "metadata": {
    "id": "oRsiqY067PIY"
   },
   "source": [
    "# **MÓDULO 14 - Exercício**\n",
    "# Pré Processamento dos Dados - A primeira etapa Pré Modelagem"
   ]
  },
  {
   "cell_type": "markdown",
   "metadata": {
    "id": "z_xy2WNB7Zil"
   },
   "source": [
    "Para nossa atividade usaremos uma base de churn também, porém essa base não diz respeito a serviços bancários e sim serviços de internet, telefone e tv - Telecomunicação.\n",
    "\n",
    "Vamos realizar aqui as etapas de limpeza e tratamento de dados vistos durante a aula, porém aplicados a essa base nova."
   ]
  },
  {
   "cell_type": "code",
   "execution_count": 1,
   "metadata": {
    "id": "JT5cIPR07GqI"
   },
   "outputs": [],
   "source": [
    "import seaborn as sns\n",
    "import matplotlib.pyplot as plt\n",
    "import pandas as pd"
   ]
  },
  {
   "cell_type": "code",
   "execution_count": 363,
   "metadata": {
    "colab": {
     "base_uri": "https://localhost:8080/",
     "height": 556
    },
    "id": "YpQybbwr76nX",
    "outputId": "a91f3127-9300-4604-9411-e0820215a03b"
   },
   "outputs": [],
   "source": [
    "#Lembrem-se sempre de alterar a importação dos dados de acordo com o diretório de vocês.\n",
    "df = pd.read_csv(\"CHURN_TELECON_MOD08_TAREFA-14.csv\", delimiter=';')\n"
   ]
  },
  {
   "cell_type": "markdown",
   "metadata": {
    "id": "-Cmll45c8TGu"
   },
   "source": [
    "Legenda dos dados:\n",
    "\n",
    "*   **CustomerID** : Esse é o ID único de cada cliente nosso da rede de produtos de telecomunicação.\n",
    "\n",
    "*   **Genero** : O genero dos nossos clientes.\n",
    "\n",
    "*   **Idoso** : Se nosso cliente tem acima de 60 anos ou não. (Sim = 1 | Não = 0)\n",
    "\n",
    "*   **Casado** : Se nosso cliente é casado ou não.\n",
    "\n",
    "*   **Dependents** : Se cliente tem dependentes.\n",
    "\n",
    "*   **Tempo_como_Cliente** : Tempo em meses que nosso cliente está com a nossa empresa.\n",
    "\n",
    "*   **PhoneService** : Se ele contratou serviço telefônico com a nossa empresa.\n",
    "\n",
    "*   **Servico_Internet** : Qual o tipo de serviço de internet contratado.\n",
    "\n",
    "*   **Servico_Seguranca** : Se ele contratou serviço de segurança com a nossa empresa.\n",
    "\n",
    "*   **Suporte_Tecnico** : Se já acionou o suporte técnico.\n",
    "\n",
    "*   **StreamingTV** : Se ele contratou serviço de streaming para TV.\n",
    "\n",
    "*   **Tipo_Contrato** : Qual o tipo de contrato dos nossos clientes, se era mensal, anual etc.\n",
    "\n",
    "*   **Tipo_Contrato** : Qual o tipo de contrato dos nossos clientes, se era mensal, anual etc.\n",
    "\n",
    "*   **PaymentMethod** : Forma de Pagamento.\n",
    "\n",
    "*   **Pagamento_Mensal** : Quanto o cliente pagava mensalmente.\n",
    "\n",
    "*   **Total_Pago** : Total já pago pelo cliente para nossa companhia.\n",
    "\n",
    "*   **Churn** : Nossa coluna mais importante, se nosso cliente nos abandonou ou não.\n",
    "\n",
    "\n"
   ]
  },
  {
   "cell_type": "markdown",
   "metadata": {
    "id": "2aZL5edn-Sxy"
   },
   "source": [
    "# 1 - Carregue a base, verifique se os tipos de dados estão de acordo com cada coluna e caso não estejam realize a transformação dos tipos de dados."
   ]
  },
  {
   "cell_type": "code",
   "execution_count": 373,
   "metadata": {
    "id": "uVbeG6vJ-ao3"
   },
   "outputs": [
    {
     "name": "stdout",
     "output_type": "stream",
     "text": [
      "<class 'pandas.core.frame.DataFrame'>\n",
      "RangeIndex: 2500 entries, 0 to 2499\n",
      "Data columns (total 16 columns):\n",
      " #   Column              Non-Null Count  Dtype  \n",
      "---  ------              --------------  -----  \n",
      " 0   ID_Usuario          2500 non-null   object \n",
      " 1   Genero              2500 non-null   object \n",
      " 2   Idoso               2500 non-null   object \n",
      " 3   Casado              2500 non-null   object \n",
      " 4   Dependentes         2500 non-null   object \n",
      " 5   Tempo_como_Cliente  2500 non-null   int64  \n",
      " 6   Servico_Telefone    2500 non-null   object \n",
      " 7   Servico_Internet    2500 non-null   object \n",
      " 8   Servico_Seguranca   2500 non-null   object \n",
      " 9   Suporte_Tecnico     2500 non-null   object \n",
      " 10  StreamingTV         2500 non-null   object \n",
      " 11  Tipo_Contrato       2500 non-null   object \n",
      " 12  Metodo_Pagamento    2500 non-null   object \n",
      " 13  Pagamento_Mensal    2500 non-null   float64\n",
      " 14  Total_Pago          2500 non-null   float64\n",
      " 15  Churn               2500 non-null   int32  \n",
      "dtypes: float64(2), int32(1), int64(1), object(12)\n",
      "memory usage: 302.9+ KB\n"
     ]
    }
   ],
   "source": [
    "#seu código aqui\n",
    "df['Idoso'] = df['Idoso'].astype(str)\n",
    "df['Idoso'] = df['Idoso'].str.replace('1', 'Yes', regex=False)\n",
    "df['Idoso'] = df['Idoso'].str.replace('0', 'No', regex=False)\n",
    "df['Churn'] = df['Churn'].str.replace('No', '0', regex=False)\n",
    "df['Churn'] = df['Churn'].str.replace('Yes', '1', regex=False)\n",
    "df['Churn'] = df['Churn'].astype(int)\n",
    "\n",
    "df.info()"
   ]
  },
  {
   "cell_type": "markdown",
   "metadata": {
    "id": "cu4kjiXn_w9t"
   },
   "source": [
    "# 2 - Esse exercício faremos por etapas:\n",
    "A) Verifique se temos colunas com dados faltantes e traga a % dos dados faltantes por coluna."
   ]
  },
  {
   "cell_type": "code",
   "execution_count": 358,
   "metadata": {
    "id": "nNYLgakRDPr2"
   },
   "outputs": [
    {
     "data": {
      "text/plain": [
       "customerID             0.00\n",
       "Genero                 0.48\n",
       "Idoso                  0.00\n",
       "Casado                 0.00\n",
       "Dependents             0.00\n",
       "Tempo_como_Cliente     0.00\n",
       "PhoneService          59.28\n",
       "Servico_Internet       0.00\n",
       "Servico_Seguranca      0.00\n",
       "Suporte_Tecnico        0.00\n",
       "StreamingTV            0.00\n",
       "Tipo_Contrato          0.00\n",
       "PaymentMethod          0.00\n",
       "Pagamento_Mensal      13.00\n",
       "Total_Pago             0.00\n",
       "Churn                  0.20\n",
       "dtype: float64"
      ]
     },
     "execution_count": 358,
     "metadata": {},
     "output_type": "execute_result"
    }
   ],
   "source": [
    "#seu código aqui\n",
    "(df.isnull().sum()/len(df))*100\n"
   ]
  },
  {
   "cell_type": "markdown",
   "metadata": {
    "id": "HzzZHCVO_8b9"
   },
   "source": [
    "B) Exclua nessa etapa as linhas das colunas com dados faltantes que você analisar que esse método é o ideal. Justifique o motivo de estar excluindo essas linhas."
   ]
  },
  {
   "cell_type": "code",
   "execution_count": 371,
   "metadata": {
    "id": "bDZTgNy8ECwu"
   },
   "outputs": [],
   "source": [
    "#seu código aqui\n",
    "#Aqui eu decidi excluir os dados nulos da coluna 'Genero' porque ela continha apenas 4% de dados faltantes.\n",
    "df.dropna(subset=['Genero'], inplace=True)\n"
   ]
  },
  {
   "cell_type": "markdown",
   "metadata": {
    "id": "plAEzGoMAP16"
   },
   "source": [
    "C) Nessa etapa substitua pela média, mediana ou moda as linhas das colunas com valores faltantes que você analisou e entendeu que esse era o melhor método. Não se esqueça de justificar sua escolha."
   ]
  },
  {
   "cell_type": "markdown",
   "metadata": {
    "id": "9S7O7GzoEevG"
   },
   "source": [
    "**Dica variáveis numéricas:** Não se esqueça de verificar a distrbuição dos dados, média e mediana."
   ]
  },
  {
   "cell_type": "markdown",
   "metadata": {
    "id": "MuhfrNV5FGDY"
   },
   "source": [
    "**Dica variáveis categóricas:** Caso precise substituir uma variável categórica utilize um gráfico de barras para verificar a que mais aparece e utilizar ela na substituição.\n",
    "Ou você pode optar por excluir a coluna, mas justifique sua escolha.\n",
    "\n",
    "Caso opte por substituir você pode utilizar a função fillna:\n",
    "df['SUACOLUNA'].fillna(\"VALOR QUE SUBSTITUIRA O NULO\", inplace=True)\n",
    "Ela funcionará como a replace."
   ]
  },
  {
   "cell_type": "code",
   "execution_count": 369,
   "metadata": {
    "id": "f9xdpik_ERw1"
   },
   "outputs": [],
   "source": [
    "#seu código aqui\n",
    "#Na coluna 'Churn' tinha apenas 2% de dados faltantes nao faria tanta diferença no modelo e na coluna 'Servico_Telefone' tinha 59%\n",
    "#Mesmo nao sendo uma coluna muito importante para o modelo de ML ela tem uma quantidade muito grande para excluir, então eu inclui nos dados com a maior quantidade. \n",
    "df.fillna({'Churn': 'No'}, inplace=True)\n",
    "df.fillna({'Servico_Telefone': 'Yes'}, inplace=True)\n",
    "\n",
    "#A coluna 'Pagamento_Mensal' eu decidi trocar os dados nulos pela mediana porque ela acabou puxando a media para mais proxima dela. \n",
    "mediana = df['Pagamento_Mensal'].median()\n",
    "df.fillna(mediana, inplace=True)\n"
   ]
  },
  {
   "cell_type": "markdown",
   "metadata": {
    "id": "KyM7bzIWAevH"
   },
   "source": [
    "# 3 - Verifique se encontramos valores digitados incorretamente, ou com letras maiusculas ou minusculas, ou até mesmo mesmos valores porém escritos de forma dirente e corrija."
   ]
  },
  {
   "cell_type": "code",
   "execution_count": 367,
   "metadata": {
    "id": "pBLJpzXXGTcq"
   },
   "outputs": [],
   "source": [
    "#seu código aqui\n",
    "df['Genero'] = df['Genero'].str.upper()\n",
    "df.loc[df['Genero'] == 'F', 'Genero'] = 'FEMALE'\n",
    "df.loc[df['Genero'] == 'M', 'Genero'] = 'MALE'\n",
    "df['Servico_Internet'] = df['Servico_Internet'].str.upper()\n"
   ]
  },
  {
   "cell_type": "markdown",
   "metadata": {
    "id": "C-2vJktpA0r7"
   },
   "source": [
    "# [EXTRA] 4 - Caso deseje, para manter um padrão na sua base, renomeie as colunas ou deixand"
   ]
  },
  {
   "cell_type": "code",
   "execution_count": 375,
   "metadata": {},
   "outputs": [
    {
     "data": {
      "text/html": [
       "<div>\n",
       "<style scoped>\n",
       "    .dataframe tbody tr th:only-of-type {\n",
       "        vertical-align: middle;\n",
       "    }\n",
       "\n",
       "    .dataframe tbody tr th {\n",
       "        vertical-align: top;\n",
       "    }\n",
       "\n",
       "    .dataframe thead th {\n",
       "        text-align: right;\n",
       "    }\n",
       "</style>\n",
       "<table border=\"1\" class=\"dataframe\">\n",
       "  <thead>\n",
       "    <tr style=\"text-align: right;\">\n",
       "      <th></th>\n",
       "      <th>ID_Usuario</th>\n",
       "      <th>Genero</th>\n",
       "      <th>Idoso</th>\n",
       "      <th>Casado</th>\n",
       "      <th>Dependentes</th>\n",
       "      <th>Tempo_como_Cliente</th>\n",
       "      <th>Servico_Telefone</th>\n",
       "      <th>Servico_Internet</th>\n",
       "      <th>Servico_Seguranca</th>\n",
       "      <th>Suporte_Tecnico</th>\n",
       "      <th>StreamingTV</th>\n",
       "      <th>Tipo_Contrato</th>\n",
       "      <th>Metodo_Pagamento</th>\n",
       "      <th>Pagamento_Mensal</th>\n",
       "      <th>Total_Pago</th>\n",
       "      <th>Churn</th>\n",
       "    </tr>\n",
       "  </thead>\n",
       "  <tbody>\n",
       "    <tr>\n",
       "      <th>0</th>\n",
       "      <td>7590-VHVEG</td>\n",
       "      <td>FEMALE</td>\n",
       "      <td>No</td>\n",
       "      <td>Yes</td>\n",
       "      <td>No</td>\n",
       "      <td>1</td>\n",
       "      <td>No</td>\n",
       "      <td>DSL</td>\n",
       "      <td>No</td>\n",
       "      <td>No</td>\n",
       "      <td>No</td>\n",
       "      <td>Month-to-month</td>\n",
       "      <td>Electronic check</td>\n",
       "      <td>29.85</td>\n",
       "      <td>29.85</td>\n",
       "      <td>0</td>\n",
       "    </tr>\n",
       "    <tr>\n",
       "      <th>1</th>\n",
       "      <td>5575-GNVDE</td>\n",
       "      <td>MALE</td>\n",
       "      <td>No</td>\n",
       "      <td>No</td>\n",
       "      <td>No</td>\n",
       "      <td>34</td>\n",
       "      <td>Yes</td>\n",
       "      <td>DSL</td>\n",
       "      <td>Yes</td>\n",
       "      <td>No</td>\n",
       "      <td>No</td>\n",
       "      <td>One year</td>\n",
       "      <td>Mailed check</td>\n",
       "      <td>56.95</td>\n",
       "      <td>1889.50</td>\n",
       "      <td>0</td>\n",
       "    </tr>\n",
       "    <tr>\n",
       "      <th>2</th>\n",
       "      <td>3668-QPYBK</td>\n",
       "      <td>MALE</td>\n",
       "      <td>No</td>\n",
       "      <td>No</td>\n",
       "      <td>No</td>\n",
       "      <td>2</td>\n",
       "      <td>Yes</td>\n",
       "      <td>DSL</td>\n",
       "      <td>Yes</td>\n",
       "      <td>No</td>\n",
       "      <td>No</td>\n",
       "      <td>Month-to-month</td>\n",
       "      <td>Mailed check</td>\n",
       "      <td>53.85</td>\n",
       "      <td>108.15</td>\n",
       "      <td>1</td>\n",
       "    </tr>\n",
       "    <tr>\n",
       "      <th>3</th>\n",
       "      <td>7795-CFOCW</td>\n",
       "      <td>MALE</td>\n",
       "      <td>No</td>\n",
       "      <td>No</td>\n",
       "      <td>No</td>\n",
       "      <td>45</td>\n",
       "      <td>No</td>\n",
       "      <td>DSL</td>\n",
       "      <td>Yes</td>\n",
       "      <td>Yes</td>\n",
       "      <td>No</td>\n",
       "      <td>One year</td>\n",
       "      <td>Bank transfer (automatic)</td>\n",
       "      <td>71.45</td>\n",
       "      <td>1840.75</td>\n",
       "      <td>0</td>\n",
       "    </tr>\n",
       "    <tr>\n",
       "      <th>4</th>\n",
       "      <td>9237-HQITU</td>\n",
       "      <td>71.45</td>\n",
       "      <td>No</td>\n",
       "      <td>No</td>\n",
       "      <td>No</td>\n",
       "      <td>2</td>\n",
       "      <td>Yes</td>\n",
       "      <td>FIBER OPTIC</td>\n",
       "      <td>No</td>\n",
       "      <td>No</td>\n",
       "      <td>No</td>\n",
       "      <td>Month-to-month</td>\n",
       "      <td>Electronic check</td>\n",
       "      <td>71.45</td>\n",
       "      <td>151.65</td>\n",
       "      <td>1</td>\n",
       "    </tr>\n",
       "    <tr>\n",
       "      <th>5</th>\n",
       "      <td>9305-CDSKC</td>\n",
       "      <td>71.45</td>\n",
       "      <td>No</td>\n",
       "      <td>No</td>\n",
       "      <td>No</td>\n",
       "      <td>8</td>\n",
       "      <td>Yes</td>\n",
       "      <td>FIBER OPTIC</td>\n",
       "      <td>No</td>\n",
       "      <td>No</td>\n",
       "      <td>Yes</td>\n",
       "      <td>Month-to-month</td>\n",
       "      <td>Electronic check</td>\n",
       "      <td>71.45</td>\n",
       "      <td>820.50</td>\n",
       "      <td>0</td>\n",
       "    </tr>\n",
       "    <tr>\n",
       "      <th>6</th>\n",
       "      <td>1452-KIOVK</td>\n",
       "      <td>71.45</td>\n",
       "      <td>No</td>\n",
       "      <td>No</td>\n",
       "      <td>Yes</td>\n",
       "      <td>22</td>\n",
       "      <td>Yes</td>\n",
       "      <td>FIBER OPTIC</td>\n",
       "      <td>No</td>\n",
       "      <td>No</td>\n",
       "      <td>Yes</td>\n",
       "      <td>Month-to-month</td>\n",
       "      <td>Credit card (automatic)</td>\n",
       "      <td>71.45</td>\n",
       "      <td>1949.40</td>\n",
       "      <td>0</td>\n",
       "    </tr>\n",
       "    <tr>\n",
       "      <th>7</th>\n",
       "      <td>6713-OKOMC</td>\n",
       "      <td>71.45</td>\n",
       "      <td>No</td>\n",
       "      <td>No</td>\n",
       "      <td>No</td>\n",
       "      <td>10</td>\n",
       "      <td>No</td>\n",
       "      <td>DSL</td>\n",
       "      <td>Yes</td>\n",
       "      <td>No</td>\n",
       "      <td>No</td>\n",
       "      <td>Month-to-month</td>\n",
       "      <td>Mailed check</td>\n",
       "      <td>71.45</td>\n",
       "      <td>301.90</td>\n",
       "      <td>0</td>\n",
       "    </tr>\n",
       "    <tr>\n",
       "      <th>8</th>\n",
       "      <td>7892-POOKP</td>\n",
       "      <td>71.45</td>\n",
       "      <td>No</td>\n",
       "      <td>Yes</td>\n",
       "      <td>No</td>\n",
       "      <td>28</td>\n",
       "      <td>Yes</td>\n",
       "      <td>FIBER OPTIC</td>\n",
       "      <td>No</td>\n",
       "      <td>Yes</td>\n",
       "      <td>Yes</td>\n",
       "      <td>Month-to-month</td>\n",
       "      <td>Electronic check</td>\n",
       "      <td>71.45</td>\n",
       "      <td>3046.05</td>\n",
       "      <td>0</td>\n",
       "    </tr>\n",
       "    <tr>\n",
       "      <th>9</th>\n",
       "      <td>6388-TABGU</td>\n",
       "      <td>71.45</td>\n",
       "      <td>No</td>\n",
       "      <td>No</td>\n",
       "      <td>Yes</td>\n",
       "      <td>62</td>\n",
       "      <td>Yes</td>\n",
       "      <td>DSL</td>\n",
       "      <td>Yes</td>\n",
       "      <td>No</td>\n",
       "      <td>No</td>\n",
       "      <td>One year</td>\n",
       "      <td>Bank transfer (automatic)</td>\n",
       "      <td>71.45</td>\n",
       "      <td>3487.95</td>\n",
       "      <td>0</td>\n",
       "    </tr>\n",
       "    <tr>\n",
       "      <th>10</th>\n",
       "      <td>9763-GRSKD</td>\n",
       "      <td>71.45</td>\n",
       "      <td>No</td>\n",
       "      <td>Yes</td>\n",
       "      <td>Yes</td>\n",
       "      <td>13</td>\n",
       "      <td>Yes</td>\n",
       "      <td>DSL</td>\n",
       "      <td>Yes</td>\n",
       "      <td>No</td>\n",
       "      <td>No</td>\n",
       "      <td>Month-to-month</td>\n",
       "      <td>Mailed check</td>\n",
       "      <td>71.45</td>\n",
       "      <td>587.45</td>\n",
       "      <td>0</td>\n",
       "    </tr>\n",
       "  </tbody>\n",
       "</table>\n",
       "</div>"
      ],
      "text/plain": [
       "    ID_Usuario  Genero Idoso Casado Dependentes  Tempo_como_Cliente  \\\n",
       "0   7590-VHVEG  FEMALE    No    Yes          No                   1   \n",
       "1   5575-GNVDE    MALE    No     No          No                  34   \n",
       "2   3668-QPYBK    MALE    No     No          No                   2   \n",
       "3   7795-CFOCW    MALE    No     No          No                  45   \n",
       "4   9237-HQITU   71.45    No     No          No                   2   \n",
       "5   9305-CDSKC   71.45    No     No          No                   8   \n",
       "6   1452-KIOVK   71.45    No     No         Yes                  22   \n",
       "7   6713-OKOMC   71.45    No     No          No                  10   \n",
       "8   7892-POOKP   71.45    No    Yes          No                  28   \n",
       "9   6388-TABGU   71.45    No     No         Yes                  62   \n",
       "10  9763-GRSKD   71.45    No    Yes         Yes                  13   \n",
       "\n",
       "   Servico_Telefone Servico_Internet Servico_Seguranca Suporte_Tecnico  \\\n",
       "0                No              DSL                No              No   \n",
       "1               Yes              DSL               Yes              No   \n",
       "2               Yes              DSL               Yes              No   \n",
       "3                No              DSL               Yes             Yes   \n",
       "4               Yes      FIBER OPTIC                No              No   \n",
       "5               Yes      FIBER OPTIC                No              No   \n",
       "6               Yes      FIBER OPTIC                No              No   \n",
       "7                No              DSL               Yes              No   \n",
       "8               Yes      FIBER OPTIC                No             Yes   \n",
       "9               Yes              DSL               Yes              No   \n",
       "10              Yes              DSL               Yes              No   \n",
       "\n",
       "   StreamingTV   Tipo_Contrato           Metodo_Pagamento  Pagamento_Mensal  \\\n",
       "0           No  Month-to-month           Electronic check             29.85   \n",
       "1           No        One year               Mailed check             56.95   \n",
       "2           No  Month-to-month               Mailed check             53.85   \n",
       "3           No        One year  Bank transfer (automatic)             71.45   \n",
       "4           No  Month-to-month           Electronic check             71.45   \n",
       "5          Yes  Month-to-month           Electronic check             71.45   \n",
       "6          Yes  Month-to-month    Credit card (automatic)             71.45   \n",
       "7           No  Month-to-month               Mailed check             71.45   \n",
       "8          Yes  Month-to-month           Electronic check             71.45   \n",
       "9           No        One year  Bank transfer (automatic)             71.45   \n",
       "10          No  Month-to-month               Mailed check             71.45   \n",
       "\n",
       "    Total_Pago  Churn  \n",
       "0        29.85      0  \n",
       "1      1889.50      0  \n",
       "2       108.15      1  \n",
       "3      1840.75      0  \n",
       "4       151.65      1  \n",
       "5       820.50      0  \n",
       "6      1949.40      0  \n",
       "7       301.90      0  \n",
       "8      3046.05      0  \n",
       "9      3487.95      0  \n",
       "10      587.45      0  "
      ]
     },
     "execution_count": 375,
     "metadata": {},
     "output_type": "execute_result"
    }
   ],
   "source": [
    "df.rename(columns={'customerID':'ID_Usuario'}, inplace=True)\n",
    "df.rename(columns={'Dependents':'Dependentes'}, inplace=True)\n",
    "df.rename(columns={'PhoneService':'Servico_Telefone'}, inplace=True)\n",
    "df.rename(columns={'PaymentMethod':'Metodo_Pagamento'}, inplace=True)\n",
    "\n",
    "df.head(11)"
   ]
  }
 ],
 "metadata": {
  "colab": {
   "provenance": []
  },
  "kernelspec": {
   "display_name": "Python 3 (ipykernel)",
   "language": "python",
   "name": "python3"
  },
  "language_info": {
   "codemirror_mode": {
    "name": "ipython",
    "version": 3
   },
   "file_extension": ".py",
   "mimetype": "text/x-python",
   "name": "python",
   "nbconvert_exporter": "python",
   "pygments_lexer": "ipython3",
   "version": "3.12.4"
  }
 },
 "nbformat": 4,
 "nbformat_minor": 4
}
